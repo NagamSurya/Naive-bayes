{
 "cells": [
  {
   "cell_type": "code",
   "execution_count": 1,
   "id": "94d7b93e",
   "metadata": {},
   "outputs": [],
   "source": [
    "import numpy as np\n",
    "import pandas as pd"
   ]
  },
  {
   "cell_type": "code",
   "execution_count": 5,
   "id": "5a871cce",
   "metadata": {},
   "outputs": [],
   "source": [
    "#loading the data\n",
    "\n",
    "data=pd.read_csv('data/imdb_labelled.txt' , delimiter='\\t', names=['review', 'sentiment'])"
   ]
  },
  {
   "cell_type": "code",
   "execution_count": 6,
   "id": "72be91d5",
   "metadata": {},
   "outputs": [
    {
     "data": {
      "text/html": [
       "<div>\n",
       "<style scoped>\n",
       "    .dataframe tbody tr th:only-of-type {\n",
       "        vertical-align: middle;\n",
       "    }\n",
       "\n",
       "    .dataframe tbody tr th {\n",
       "        vertical-align: top;\n",
       "    }\n",
       "\n",
       "    .dataframe thead th {\n",
       "        text-align: right;\n",
       "    }\n",
       "</style>\n",
       "<table border=\"1\" class=\"dataframe\">\n",
       "  <thead>\n",
       "    <tr style=\"text-align: right;\">\n",
       "      <th></th>\n",
       "      <th>review</th>\n",
       "      <th>sentiment</th>\n",
       "    </tr>\n",
       "  </thead>\n",
       "  <tbody>\n",
       "    <tr>\n",
       "      <th>0</th>\n",
       "      <td>A very, very, very slow-moving, aimless movie ...</td>\n",
       "      <td>0</td>\n",
       "    </tr>\n",
       "    <tr>\n",
       "      <th>1</th>\n",
       "      <td>Not sure who was more lost - the flat characte...</td>\n",
       "      <td>0</td>\n",
       "    </tr>\n",
       "    <tr>\n",
       "      <th>2</th>\n",
       "      <td>Attempting artiness with black &amp; white and cle...</td>\n",
       "      <td>0</td>\n",
       "    </tr>\n",
       "    <tr>\n",
       "      <th>3</th>\n",
       "      <td>Very little music or anything to speak of.</td>\n",
       "      <td>0</td>\n",
       "    </tr>\n",
       "    <tr>\n",
       "      <th>4</th>\n",
       "      <td>The best scene in the movie was when Gerardo i...</td>\n",
       "      <td>1</td>\n",
       "    </tr>\n",
       "  </tbody>\n",
       "</table>\n",
       "</div>"
      ],
      "text/plain": [
       "                                              review  sentiment\n",
       "0  A very, very, very slow-moving, aimless movie ...          0\n",
       "1  Not sure who was more lost - the flat characte...          0\n",
       "2  Attempting artiness with black & white and cle...          0\n",
       "3       Very little music or anything to speak of.            0\n",
       "4  The best scene in the movie was when Gerardo i...          1"
      ]
     },
     "execution_count": 6,
     "metadata": {},
     "output_type": "execute_result"
    }
   ],
   "source": [
    "data.head()\n"
   ]
  },
  {
   "cell_type": "code",
   "execution_count": 10,
   "id": "4c4e0b6b",
   "metadata": {},
   "outputs": [
    {
     "name": "stdout",
     "output_type": "stream",
     "text": [
      "<class 'pandas.core.frame.DataFrame'>\n",
      "RangeIndex: 748 entries, 0 to 747\n",
      "Data columns (total 2 columns):\n",
      " #   Column     Non-Null Count  Dtype \n",
      "---  ------     --------------  ----- \n",
      " 0   review     748 non-null    object\n",
      " 1   sentiment  748 non-null    int64 \n",
      "dtypes: int64(1), object(1)\n",
      "memory usage: 11.8+ KB\n"
     ]
    }
   ],
   "source": [
    "data.info()"
   ]
  },
  {
   "cell_type": "code",
   "execution_count": 11,
   "id": "b310c3d7",
   "metadata": {},
   "outputs": [
    {
     "data": {
      "text/plain": [
       "1    386\n",
       "0    362\n",
       "Name: sentiment, dtype: int64"
      ]
     },
     "execution_count": 11,
     "metadata": {},
     "output_type": "execute_result"
    }
   ],
   "source": [
    "data['sentiment'].value_counts()"
   ]
  },
  {
   "cell_type": "code",
   "execution_count": 14,
   "id": "f6db465b",
   "metadata": {},
   "outputs": [],
   "source": [
    "def text_filtering(text):\n",
    "\n",
    "    text = text.replace('\\t', '')\n",
    "    text = text.replace('\\n', '')\n",
    "    text = text.replace('\\r', '')\n",
    "    text = text.rstrip() \n",
    "    regular_expression = '[^a-zA-z\\s]'\n",
    "    text = re.sub(regular_expression, '', text)\n",
    "    return text"
   ]
  },
  {
   "cell_type": "code",
   "execution_count": 36,
   "id": "33b68e5a",
   "metadata": {},
   "outputs": [
    {
     "name": "stdout",
     "output_type": "stream",
     "text": [
      "<class 'pandas.core.frame.DataFrame'>\n",
      "RangeIndex: 523 entries, 0 to 522\n",
      "Data columns (total 2 columns):\n",
      " #   Column     Non-Null Count  Dtype \n",
      "---  ------     --------------  ----- \n",
      " 0   review     523 non-null    object\n",
      " 1   sentiment  523 non-null    int64 \n",
      "dtypes: int64(1), object(1)\n",
      "memory usage: 8.3+ KB\n",
      "None\n"
     ]
    }
   ],
   "source": [
    "train_data = data[:int(0.7*len(data))]\n",
    "test_and_dev_data = data[int(0.7*len(data)):]\n",
    "\n",
    "\n",
    "dev_data=test_and_dev_data[:int(0.5 * len(test_and_dev_data))]\n",
    "test_data=test_and_dev_data[int(0.5 * len(test_and_dev_data)):]\n",
    "\n",
    "print(train_data.info())\n",
    "print(train)\n",
    "print()\n"
   ]
  },
  {
   "cell_type": "code",
   "execution_count": 37,
   "id": "a8c0151a",
   "metadata": {},
   "outputs": [
    {
     "name": "stdout",
     "output_type": "stream",
     "text": [
      "<class 'pandas.core.frame.DataFrame'>\n",
      "RangeIndex: 113 entries, 635 to 747\n",
      "Data columns (total 2 columns):\n",
      " #   Column     Non-Null Count  Dtype \n",
      "---  ------     --------------  ----- \n",
      " 0   review     113 non-null    object\n",
      " 1   sentiment  113 non-null    int64 \n",
      "dtypes: int64(1), object(1)\n",
      "memory usage: 1.9+ KB\n",
      "None\n"
     ]
    }
   ],
   "source": [
    "print(test_data.info())\n"
   ]
  },
  {
   "cell_type": "code",
   "execution_count": 38,
   "id": "14c4a8f8",
   "metadata": {},
   "outputs": [
    {
     "name": "stdout",
     "output_type": "stream",
     "text": [
      "<class 'pandas.core.frame.DataFrame'>\n",
      "RangeIndex: 112 entries, 523 to 634\n",
      "Data columns (total 2 columns):\n",
      " #   Column     Non-Null Count  Dtype \n",
      "---  ------     --------------  ----- \n",
      " 0   review     112 non-null    object\n",
      " 1   sentiment  112 non-null    int64 \n",
      "dtypes: int64(1), object(1)\n",
      "memory usage: 1.9+ KB\n",
      "None\n"
     ]
    }
   ],
   "source": [
    "print(dev_data.info())"
   ]
  },
  {
   "cell_type": "code",
   "execution_count": 39,
   "id": "cf07d460",
   "metadata": {},
   "outputs": [
    {
     "data": {
      "text/plain": [
       "0    292\n",
       "1    231\n",
       "Name: sentiment, dtype: int64"
      ]
     },
     "execution_count": 39,
     "metadata": {},
     "output_type": "execute_result"
    }
   ],
   "source": [
    "train_data['sentiment'].value_counts()"
   ]
  },
  {
   "cell_type": "code",
   "execution_count": 40,
   "id": "40379cb6",
   "metadata": {},
   "outputs": [
    {
     "data": {
      "text/plain": [
       "1    72\n",
       "0    41\n",
       "Name: sentiment, dtype: int64"
      ]
     },
     "execution_count": 40,
     "metadata": {},
     "output_type": "execute_result"
    }
   ],
   "source": [
    "test_data['sentiment'].value_counts()"
   ]
  },
  {
   "cell_type": "code",
   "execution_count": 41,
   "id": "931589c9",
   "metadata": {},
   "outputs": [
    {
     "data": {
      "text/plain": [
       "1    83\n",
       "0    29\n",
       "Name: sentiment, dtype: int64"
      ]
     },
     "execution_count": 41,
     "metadata": {},
     "output_type": "execute_result"
    }
   ],
   "source": [
    "dev_data['sentiment'].value_counts()"
   ]
  },
  {
   "cell_type": "code",
   "execution_count": 44,
   "id": "f83b5bbb",
   "metadata": {},
   "outputs": [
    {
     "name": "stdout",
     "output_type": "stream",
     "text": [
      "0      A very, very, very slow-moving, aimless movie ...\n",
      "1      Not sure who was more lost - the flat characte...\n",
      "2      Attempting artiness with black & white and cle...\n",
      "3           Very little music or anything to speak of.  \n",
      "4      The best scene in the movie was when Gerardo i...\n",
      "                             ...                        \n",
      "518    The lines, the cuts, the audio, everything is ...\n",
      "519             You can find better movies at youtube.  \n",
      "520    Top line: Don't waste your time and money on t...\n",
      "521    A Lassie movie which should have been \"put to ...\n",
      "522    That's how I'd describe this painfully dreary ...\n",
      "Name: review, Length: 523, dtype: object\n",
      "0      0\n",
      "1      0\n",
      "2      0\n",
      "3      0\n",
      "4      1\n",
      "      ..\n",
      "518    0\n",
      "519    0\n",
      "520    0\n",
      "521    0\n",
      "522    0\n",
      "Name: sentiment, Length: 523, dtype: int64\n",
      "523    So mediocre in every aspect that it just becom...\n",
      "524    It isn't even an achievement as a \"so-bad-it's...\n",
      "525            It's an empty, hollow shell of a movie.  \n",
      "526    Seriously, it's not worth wasting your, or you...\n",
      "527                               Avoid, avoid, avoid!  \n",
      "                             ...                        \n",
      "630    Juano Hernandez (an exceptional actor who play...\n",
      "631                          Trumbull on I LOVE LUCY).  \n",
      "632    See it with your kids if you have a chance--it...\n",
      "633                         See both films if you can.  \n",
      "634    It was that year, however, that reminded us th...\n",
      "Name: review, Length: 112, dtype: object\n",
      "523    0\n",
      "524    0\n",
      "525    0\n",
      "526    0\n",
      "527    0\n",
      "      ..\n",
      "630    1\n",
      "631    1\n",
      "632    1\n",
      "633    1\n",
      "634    1\n",
      "Name: sentiment, Length: 112, dtype: int64\n",
      "635    Feelings, thoughts...Gabriel's discomfort duri...\n",
      "636    Very disappointed and wondered how it could be...\n",
      "637                                    It's very slow.  \n",
      "638    Lot of holes in the plot: there's nothing abou...\n",
      "639                           ) Don't waste your time.  \n",
      "                             ...                        \n",
      "743    I just got bored watching Jessice Lange take h...\n",
      "744    Unfortunately, any virtue in this film's produ...\n",
      "745                     In a word, it is embarrassing.  \n",
      "746                                 Exceptionally bad!  \n",
      "747    All in all its an insult to one's intelligence...\n",
      "Name: review, Length: 113, dtype: object\n",
      "635    1\n",
      "636    0\n",
      "637    0\n",
      "638    0\n",
      "639    0\n",
      "      ..\n",
      "743    0\n",
      "744    0\n",
      "745    0\n",
      "746    0\n",
      "747    0\n",
      "Name: sentiment, Length: 113, dtype: int64\n"
     ]
    }
   ],
   "source": [
    "X_train = train_data['review']\n",
    "y_train = train_data['sentiment']\n",
    "print(X_train)\n",
    "print(y_train)\n",
    "\n",
    "X_dev = dev_data['review']\n",
    "y_dev = dev_data['sentiment']\n",
    "print(X_dev)\n",
    "print(y_dev)\n",
    "\n",
    "X_test = test_data['review']\n",
    "y_test = test_data['sentiment']\n",
    "print(X_test)\n",
    "print(y_test)"
   ]
  },
  {
   "cell_type": "code",
   "execution_count": 55,
   "id": "5339fee3",
   "metadata": {},
   "outputs": [
    {
     "name": "stdout",
     "output_type": "stream",
     "text": [
      "Negative review class' prior probability-- 0.5583173996175909\n",
      "Positive review class' prior probability-- 0.4416826003824092\n"
     ]
    }
   ],
   "source": [
    "\n",
    "def cal_prior_probs(y_train):\n",
    "    prior_probs = []\n",
    "    count_0 = sum(y_train == 0)\n",
    "    prior_probs.append(count_0 / y_train.size)  \n",
    "    count_1 = sum(y_train == 1)\n",
    "    prior_probs.append(count_1 / y_train.size)    \n",
    "    return prior_probs\n",
    "prior_probs=cal_prior_probs(y_train)\n",
    "print(\"Negative review class' prior probability--\",prior_probs[0] )\n",
    "print(\"Positive review class' prior probability--\",prior_probs[1] )"
   ]
  },
  {
   "cell_type": "code",
   "execution_count": null,
   "id": "dfd281b1",
   "metadata": {},
   "outputs": [],
   "source": []
  }
 ],
 "metadata": {
  "kernelspec": {
   "display_name": "Python 3",
   "language": "python",
   "name": "python3"
  },
  "language_info": {
   "codemirror_mode": {
    "name": "ipython",
    "version": 3
   },
   "file_extension": ".py",
   "mimetype": "text/x-python",
   "name": "python",
   "nbconvert_exporter": "python",
   "pygments_lexer": "ipython3",
   "version": "3.8.8"
  }
 },
 "nbformat": 4,
 "nbformat_minor": 5
}
