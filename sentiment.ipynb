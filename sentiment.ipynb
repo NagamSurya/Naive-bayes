{
 "cells": [
  {
   "cell_type": "code",
   "execution_count": 223,
   "id": "13af3b2e",
   "metadata": {},
   "outputs": [],
   "source": [
    "import numpy as np\n",
    "import pandas as pd\n",
    "import re\n",
    "from nltk.corpus import stopwords\n",
    "from random import randrange\n"
   ]
  },
  {
   "cell_type": "code",
   "execution_count": 224,
   "id": "fca6bd5c",
   "metadata": {},
   "outputs": [],
   "source": [
    "#loading the data\n",
    "\n",
    "data=pd.read_csv('data/imdb_labelled.txt' , delimiter='\\t', names=['review', 'sentiment'])"
   ]
  },
  {
   "cell_type": "code",
   "execution_count": 225,
   "id": "697beed6",
   "metadata": {},
   "outputs": [
    {
     "data": {
      "text/html": [
       "<div>\n",
       "<style scoped>\n",
       "    .dataframe tbody tr th:only-of-type {\n",
       "        vertical-align: middle;\n",
       "    }\n",
       "\n",
       "    .dataframe tbody tr th {\n",
       "        vertical-align: top;\n",
       "    }\n",
       "\n",
       "    .dataframe thead th {\n",
       "        text-align: right;\n",
       "    }\n",
       "</style>\n",
       "<table border=\"1\" class=\"dataframe\">\n",
       "  <thead>\n",
       "    <tr style=\"text-align: right;\">\n",
       "      <th></th>\n",
       "      <th>review</th>\n",
       "      <th>sentiment</th>\n",
       "    </tr>\n",
       "  </thead>\n",
       "  <tbody>\n",
       "    <tr>\n",
       "      <th>0</th>\n",
       "      <td>A very, very, very slow-moving, aimless movie ...</td>\n",
       "      <td>0</td>\n",
       "    </tr>\n",
       "    <tr>\n",
       "      <th>1</th>\n",
       "      <td>Not sure who was more lost - the flat characte...</td>\n",
       "      <td>0</td>\n",
       "    </tr>\n",
       "    <tr>\n",
       "      <th>2</th>\n",
       "      <td>Attempting artiness with black &amp; white and cle...</td>\n",
       "      <td>0</td>\n",
       "    </tr>\n",
       "    <tr>\n",
       "      <th>3</th>\n",
       "      <td>Very little music or anything to speak of.</td>\n",
       "      <td>0</td>\n",
       "    </tr>\n",
       "    <tr>\n",
       "      <th>4</th>\n",
       "      <td>The best scene in the movie was when Gerardo i...</td>\n",
       "      <td>1</td>\n",
       "    </tr>\n",
       "  </tbody>\n",
       "</table>\n",
       "</div>"
      ],
      "text/plain": [
       "                                              review  sentiment\n",
       "0  A very, very, very slow-moving, aimless movie ...          0\n",
       "1  Not sure who was more lost - the flat characte...          0\n",
       "2  Attempting artiness with black & white and cle...          0\n",
       "3       Very little music or anything to speak of.            0\n",
       "4  The best scene in the movie was when Gerardo i...          1"
      ]
     },
     "execution_count": 225,
     "metadata": {},
     "output_type": "execute_result"
    }
   ],
   "source": [
    "data.head()\n"
   ]
  },
  {
   "cell_type": "code",
   "execution_count": 226,
   "id": "dcebeeab",
   "metadata": {},
   "outputs": [
    {
     "name": "stdout",
     "output_type": "stream",
     "text": [
      "<class 'pandas.core.frame.DataFrame'>\n",
      "RangeIndex: 748 entries, 0 to 747\n",
      "Data columns (total 2 columns):\n",
      " #   Column     Non-Null Count  Dtype \n",
      "---  ------     --------------  ----- \n",
      " 0   review     748 non-null    object\n",
      " 1   sentiment  748 non-null    int64 \n",
      "dtypes: int64(1), object(1)\n",
      "memory usage: 11.8+ KB\n"
     ]
    }
   ],
   "source": [
    "data.info()"
   ]
  },
  {
   "cell_type": "code",
   "execution_count": 227,
   "id": "8d747341",
   "metadata": {},
   "outputs": [
    {
     "data": {
      "text/plain": [
       "1    386\n",
       "0    362\n",
       "Name: sentiment, dtype: int64"
      ]
     },
     "execution_count": 227,
     "metadata": {},
     "output_type": "execute_result"
    }
   ],
   "source": [
    "data['sentiment'].value_counts()"
   ]
  },
  {
   "cell_type": "code",
   "execution_count": 242,
   "id": "18aa6167",
   "metadata": {},
   "outputs": [
    {
     "data": {
      "text/plain": [
       "'movie is not  good'"
      ]
     },
     "execution_count": 242,
     "metadata": {},
     "output_type": "execute_result"
    }
   ],
   "source": [
    "def text_filtering(text):\n",
    "    #stop_words = list(stopwords.words('english'))\n",
    "    stop_words=[]\n",
    "    text = text.replace('\\t', '')\n",
    "    text = text.replace('\\n', '')\n",
    "    text = text.replace('\\r', '')\n",
    "    for word in text.split(\" \"):\n",
    "        if word in stop_words:\n",
    "            text=text.replace(word,'')\n",
    "    text = text.rstrip() \n",
    "    regular_expression = '[^a-zA-z\\s]'\n",
    "    text = re.sub(regular_expression, '', text)\n",
    "    return text\n",
    "text_filtering(\"movie is not 73855 good\")"
   ]
  },
  {
   "cell_type": "code",
   "execution_count": 243,
   "id": "a98624b4",
   "metadata": {},
   "outputs": [
    {
     "name": "stdout",
     "output_type": "stream",
     "text": [
      "<class 'pandas.core.frame.DataFrame'>\n",
      "RangeIndex: 374 entries, 0 to 373\n",
      "Data columns (total 2 columns):\n",
      " #   Column     Non-Null Count  Dtype \n",
      "---  ------     --------------  ----- \n",
      " 0   review     374 non-null    object\n",
      " 1   sentiment  374 non-null    int64 \n",
      "dtypes: int64(1), object(1)\n",
      "memory usage: 6.0+ KB\n",
      "None\n",
      "\n"
     ]
    }
   ],
   "source": [
    "train_data = data[:int(0.5*len(data))]\n",
    "test_and_dev_data = data[int(0.5*len(data)):]\n",
    "\n",
    "\n",
    "dev_data=test_and_dev_data[:int(0.4 * len(test_and_dev_data))]\n",
    "test_data=test_and_dev_data[int(0.4 * len(test_and_dev_data)):]\n",
    "\n",
    "print(train_data.info())\n",
    "\n",
    "print()\n"
   ]
  },
  {
   "cell_type": "code",
   "execution_count": 244,
   "id": "ed475bb9",
   "metadata": {},
   "outputs": [
    {
     "name": "stdout",
     "output_type": "stream",
     "text": [
      "<class 'pandas.core.frame.DataFrame'>\n",
      "RangeIndex: 225 entries, 523 to 747\n",
      "Data columns (total 2 columns):\n",
      " #   Column     Non-Null Count  Dtype \n",
      "---  ------     --------------  ----- \n",
      " 0   review     225 non-null    object\n",
      " 1   sentiment  225 non-null    int64 \n",
      "dtypes: int64(1), object(1)\n",
      "memory usage: 3.6+ KB\n",
      "None\n"
     ]
    }
   ],
   "source": [
    "print(test_data.info())\n"
   ]
  },
  {
   "cell_type": "code",
   "execution_count": 245,
   "id": "75f4208e",
   "metadata": {},
   "outputs": [
    {
     "name": "stdout",
     "output_type": "stream",
     "text": [
      "<class 'pandas.core.frame.DataFrame'>\n",
      "RangeIndex: 149 entries, 374 to 522\n",
      "Data columns (total 2 columns):\n",
      " #   Column     Non-Null Count  Dtype \n",
      "---  ------     --------------  ----- \n",
      " 0   review     149 non-null    object\n",
      " 1   sentiment  149 non-null    int64 \n",
      "dtypes: int64(1), object(1)\n",
      "memory usage: 2.5+ KB\n",
      "None\n"
     ]
    }
   ],
   "source": [
    "print(dev_data.info())"
   ]
  },
  {
   "cell_type": "code",
   "execution_count": 246,
   "id": "b0efe2f9",
   "metadata": {},
   "outputs": [
    {
     "data": {
      "text/plain": [
       "0    221\n",
       "1    153\n",
       "Name: sentiment, dtype: int64"
      ]
     },
     "execution_count": 246,
     "metadata": {},
     "output_type": "execute_result"
    }
   ],
   "source": [
    "train_data['sentiment'].value_counts()"
   ]
  },
  {
   "cell_type": "code",
   "execution_count": 247,
   "id": "ccb9af6d",
   "metadata": {},
   "outputs": [
    {
     "data": {
      "text/plain": [
       "1    155\n",
       "0     70\n",
       "Name: sentiment, dtype: int64"
      ]
     },
     "execution_count": 247,
     "metadata": {},
     "output_type": "execute_result"
    }
   ],
   "source": [
    "test_data['sentiment'].value_counts()"
   ]
  },
  {
   "cell_type": "code",
   "execution_count": 248,
   "id": "437aae64",
   "metadata": {},
   "outputs": [
    {
     "data": {
      "text/plain": [
       "1    78\n",
       "0    71\n",
       "Name: sentiment, dtype: int64"
      ]
     },
     "execution_count": 248,
     "metadata": {},
     "output_type": "execute_result"
    }
   ],
   "source": [
    "dev_data['sentiment'].value_counts()"
   ]
  },
  {
   "cell_type": "code",
   "execution_count": 249,
   "id": "2fd2ea14",
   "metadata": {},
   "outputs": [],
   "source": [
    "X_train = train_data['review']\n",
    "y_train = train_data['sentiment']\n",
    "# print(X_train)\n",
    "# print(y_train)\n",
    "\n",
    "X_dev = dev_data['review']\n",
    "y_dev = dev_data['sentiment']\n",
    "# print(X_dev)\n",
    "# print(y_dev)\n",
    "\n",
    "X_test = test_data['review']\n",
    "y_test = test_data['sentiment']\n",
    "# print(X_test)\n",
    "# print(y_test)"
   ]
  },
  {
   "cell_type": "code",
   "execution_count": 250,
   "id": "a7f7302c",
   "metadata": {},
   "outputs": [
    {
     "name": "stdout",
     "output_type": "stream",
     "text": [
      "Negative review class' prior probability-- 0.5909090909090909\n",
      "Positive review class' prior probability-- 0.4090909090909091\n"
     ]
    }
   ],
   "source": [
    "\n",
    "def cal_prior_probs(y_train):\n",
    "    prior_probs = []\n",
    "    count_0 = sum(y_train == 0)\n",
    "    prior_probs.append(count_0 / y_train.size)  \n",
    "    count_1 = sum(y_train == 1)\n",
    "    prior_probs.append(count_1 / y_train.size)    \n",
    "    return prior_probs\n",
    "prior_probs=cal_prior_probs(y_train)\n",
    "print(\"Negative review class' prior probability--\",prior_probs[0] )\n",
    "print(\"Positive review class' prior probability--\",prior_probs[1] )"
   ]
  },
  {
   "cell_type": "code",
   "execution_count": 251,
   "id": "7893262a",
   "metadata": {},
   "outputs": [],
   "source": [
    "def build_word_dict(data):\n",
    "    word_freq = {}\n",
    "    all_words=[]\n",
    "    omit=[]\n",
    "    for sentence in data:\n",
    "            words=[]\n",
    "            sentence = text_filtering(sentence)\n",
    "            words=sentence.split(' ')\n",
    "            for word in set(words) :\n",
    "                word = word.lower()\n",
    "                if word not in word_freq.keys():\n",
    "                    word_freq[word] = 1\n",
    "                    all_words.append(word)\n",
    "                else:\n",
    "                    word_freq[word] += 1\n",
    "#     for word in word_freq:\n",
    "#         if word_freq[word] <5:\n",
    "#             omit.append(word)\n",
    "\n",
    "#     for word in omit:\n",
    "#         word_freq.pop(word,None)\n",
    "        \n",
    "            \n",
    "\n",
    "    return word_freq, all_words\n",
    "\n",
    "    \n",
    "       \n",
    "# allwords_freq,allwords_train=build_word_dict(X_train)\n",
    "# print(\"Total words--\",len(allwords_train))\n",
    "\n",
    "\n",
    "# train_pos_reviews=train_data.loc[train_data.sentiment==1].review\n",
    "# pos_words_freq,pos_words=build_word_dict(train_pos_reviews)\n",
    "# print(\"Positive words--\",len(pos_words))\n",
    "\n",
    "\n",
    "# train_neg_reviews=train_data.loc[train_data.sentiment==0].review\n",
    "# neg_words_freq,neg_words=build_word_dict(train_neg_reviews)\n",
    "# print(\"Negative words--\",len(neg_words))"
   ]
  },
  {
   "cell_type": "code",
   "execution_count": 252,
   "id": "ef152693",
   "metadata": {},
   "outputs": [],
   "source": [
    "def fit(train_data,X_train):\n",
    "    allwords_freq,allwords_train=build_word_dict(X_train)\n",
    "    train_pos_reviews=train_data.loc[train_data.sentiment==1].review\n",
    "    pos_words_freq,pos_words=build_word_dict(train_pos_reviews)\n",
    "    train_neg_reviews=train_data.loc[train_data.sentiment==0].review\n",
    "    neg_words_freq,neg_words=build_word_dict(train_neg_reviews)\n",
    "\n",
    "    neg_words_freq.pop('', None)\n",
    "    neg_condi_prob={}\n",
    "    for word in neg_words_freq:\n",
    "        #print(word,\"--\",neg_words_freq[word],\"      Conditional probability of\",word,\" given sentiment is neg=\",neg_words_freq[word]/len(train_neg_reviews))\n",
    "        neg_condi_prob[word]=neg_words_freq[word]/len(train_neg_reviews) \n",
    "        \n",
    "    pos_words_freq.pop('', None)\n",
    "    pos_condi_prob={}\n",
    "    for word in pos_words_freq:\n",
    "        #print(word,\"--\",pos_words_freq[word],\"      Conditional probability of\",word,\" given sentiment is neg=\",pos_words_freq[word]/len(train_pos_reviews))\n",
    "        pos_condi_prob[word]=pos_words_freq[word]/len(train_pos_reviews)\n",
    "    \n",
    "    \n",
    "    return pos_condi_prob,neg_condi_prob\n",
    "    \n",
    "pos_condi_prob,neg_condi_prob=fit(train_data,X_train)   \n"
   ]
  },
  {
   "cell_type": "code",
   "execution_count": 253,
   "id": "a2280cad",
   "metadata": {},
   "outputs": [],
   "source": [
    "def score(real, prediction):\n",
    "    count = 0\n",
    "    for i in range(len(real)):\n",
    "        if real[i] == prediction[i]:\n",
    "            count+=1\n",
    "    accuracy=count/len(real)*100\n",
    "    return accuracy"
   ]
  },
  {
   "cell_type": "code",
   "execution_count": 254,
   "id": "d76cb302",
   "metadata": {},
   "outputs": [
    {
     "name": "stdout",
     "output_type": "stream",
     "text": [
      "Accuracy on training data-- 92.24598930481284\n",
      "Accuracy on development data-- 54.36241610738255\n",
      "Accuracy on test data-- 32.88888888888889\n"
     ]
    }
   ],
   "source": [
    "def pred(data,ans):\n",
    "    y_preds=[]\n",
    "    for sentence in data:\n",
    "        sentence=text_filtering(sentence)\n",
    "        pos_lik=1\n",
    "        neg_lik=1\n",
    "        for word in sentence.split(' '):\n",
    "            word=word.lower()\n",
    "            if word not in pos_condi_prob.keys():\n",
    "                pos_condi_prob[word]=0\n",
    "            if word not in neg_condi_prob.keys():\n",
    "                neg_condi_prob[word]=0\n",
    "            pos_lik*=pos_condi_prob[word]\n",
    "            neg_lik*=neg_condi_prob[word]\n",
    "        pos_posterior=pos_lik*prior_probs[1]\n",
    "        neg_posterior=neg_lik*prior_probs[0]\n",
    "        if pos_posterior>neg_posterior:\n",
    "            y_preds.append(1)\n",
    "        else:\n",
    "            y_preds.append(0)\n",
    "    \n",
    "    return score(ans.tolist(),y_preds)\n",
    "print(\"Accuracy on training data--\",pred(X_train,y_train) )   \n",
    "print(\"Accuracy on development data--\",pred(X_dev,y_dev))\n",
    "print(\"Accuracy on test data--\",pred(X_test,y_test))"
   ]
  },
  {
   "cell_type": "code",
   "execution_count": 255,
   "id": "a58bfa02",
   "metadata": {},
   "outputs": [
    {
     "name": "stdout",
     "output_type": "stream",
     "text": [
      "[73.33333333333333, 50.0, 30.0, 40.0, 79.3103448275862]\n"
     ]
    }
   ],
   "source": [
    "def k_fold_acc(dataset):         # here k is 5\n",
    "    \n",
    "    dat_split=np.array_split(dataset,5)\n",
    "    review_split=np.array_split(dataset['review'],5)\n",
    "    senti_split=np.array_split(dataset['sentiment'],5)\n",
    "    fold_acc=[]\n",
    "    \n",
    "    \n",
    "    arrd1= np.concatenate((dat_split[1],dat_split[2],dat_split[3],dat_split[4]))\n",
    "    arrx1=np.concatenate((review_split[1],review_split[2],review_split[3],review_split[4]))\n",
    "    dfd1 = pd.DataFrame(arrd1, columns = ['review','sentiment'])\n",
    "    dfx1= df = pd.DataFrame(arrx1, columns = ['review'])\n",
    "    fit(dfd1,dfx1)\n",
    "    acc=pred(review_split[0],senti_split[0])    \n",
    "    fold_acc.append(acc)\n",
    "\n",
    "    \n",
    "    arrd2= np.concatenate((dat_split[0],dat_split[2],dat_split[3],dat_split[4]))\n",
    "    arrx2=np.concatenate((review_split[0],review_split[2],review_split[3],review_split[4]))\n",
    "    dfd2 = pd.DataFrame(arrd2, columns = ['review','sentiment'])\n",
    "    dfx2= df = pd.DataFrame(arrx2, columns = ['review'])\n",
    "    fit(dfd2,dfx2)\n",
    "    acc=pred(review_split[1],senti_split[1])    \n",
    "    fold_acc.append(acc)\n",
    "    \n",
    "    arrd3= np.concatenate((dat_split[0],dat_split[1],dat_split[3],dat_split[4]))\n",
    "    arrx3=np.concatenate((review_split[0],review_split[1],review_split[3],review_split[4]))\n",
    "    dfd3 = pd.DataFrame(arrd3, columns = ['review','sentiment'])\n",
    "    dfx3= df = pd.DataFrame(arrx3, columns = ['review'])\n",
    "    fit(dfd3,dfx3)\n",
    "    acc=pred(review_split[2],senti_split[2])    \n",
    "    fold_acc.append(acc)\n",
    "    \n",
    "    arrd4= np.concatenate((dat_split[0],dat_split[1],dat_split[2],dat_split[4]))\n",
    "    arrx4=np.concatenate((review_split[0],review_split[1],review_split[2],review_split[4]))\n",
    "    dfd4 = pd.DataFrame(arrd4, columns = ['review','sentiment'])\n",
    "    dfx4= df = pd.DataFrame(arrx4, columns = ['review'])\n",
    "    fit(dfd4,dfx4)\n",
    "    acc=pred(review_split[3],senti_split[3])    \n",
    "    fold_acc.append(acc)\n",
    "    \n",
    "\n",
    "    arrd5= np.concatenate((dat_split[0],dat_split[1],dat_split[2],dat_split[3]))\n",
    "    arrx5=np.concatenate((review_split[0],review_split[1],review_split[2],review_split[3]))\n",
    "    dfd5 = pd.DataFrame(arrd5, columns = ['review','sentiment'])\n",
    "    dfx5= df = pd.DataFrame(arrx5, columns = ['review'])\n",
    "    fit(dfd5,dfx5)\n",
    "    acc=pred(review_split[4],senti_split[4])    \n",
    "    fold_acc.append(acc)\n",
    "\n",
    "    return fold_acc\n",
    "        \n",
    "        \n",
    "   \n",
    "    \n",
    "    \n",
    "    \n",
    "print(k_fold_acc(dev_data) )  \n",
    "\n"
   ]
  },
  {
   "cell_type": "code",
   "execution_count": null,
   "id": "f54d9daf",
   "metadata": {},
   "outputs": [],
   "source": []
  },
  {
   "cell_type": "code",
   "execution_count": null,
   "id": "7a847630",
   "metadata": {},
   "outputs": [],
   "source": [
    "cd "
   ]
  }
 ],
 "metadata": {
  "kernelspec": {
   "display_name": "Python 3",
   "language": "python",
   "name": "python3"
  },
  "language_info": {
   "codemirror_mode": {
    "name": "ipython",
    "version": 3
   },
   "file_extension": ".py",
   "mimetype": "text/x-python",
   "name": "python",
   "nbconvert_exporter": "python",
   "pygments_lexer": "ipython3",
   "version": "3.8.8"
  }
 },
 "nbformat": 4,
 "nbformat_minor": 5
}
