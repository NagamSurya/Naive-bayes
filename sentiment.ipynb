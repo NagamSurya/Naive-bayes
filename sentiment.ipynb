{
 "cells": [
  {
   "cell_type": "code",
   "execution_count": 1,
   "id": "13af3b2e",
   "metadata": {},
   "outputs": [],
   "source": [
    "import numpy as np\n",
    "import pandas as pd\n",
    "import re\n",
    "from nltk.corpus import stopwords\n"
   ]
  },
  {
   "cell_type": "code",
   "execution_count": 2,
   "id": "fca6bd5c",
   "metadata": {},
   "outputs": [],
   "source": [
    "#loading the data\n",
    "\n",
    "data=pd.read_csv('data/imdb_labelled.txt' , delimiter='\\t', names=['review', 'sentiment'])"
   ]
  },
  {
   "cell_type": "code",
   "execution_count": 3,
   "id": "697beed6",
   "metadata": {},
   "outputs": [
    {
     "data": {
      "text/html": [
       "<div>\n",
       "<style scoped>\n",
       "    .dataframe tbody tr th:only-of-type {\n",
       "        vertical-align: middle;\n",
       "    }\n",
       "\n",
       "    .dataframe tbody tr th {\n",
       "        vertical-align: top;\n",
       "    }\n",
       "\n",
       "    .dataframe thead th {\n",
       "        text-align: right;\n",
       "    }\n",
       "</style>\n",
       "<table border=\"1\" class=\"dataframe\">\n",
       "  <thead>\n",
       "    <tr style=\"text-align: right;\">\n",
       "      <th></th>\n",
       "      <th>review</th>\n",
       "      <th>sentiment</th>\n",
       "    </tr>\n",
       "  </thead>\n",
       "  <tbody>\n",
       "    <tr>\n",
       "      <th>0</th>\n",
       "      <td>A very, very, very slow-moving, aimless movie ...</td>\n",
       "      <td>0</td>\n",
       "    </tr>\n",
       "    <tr>\n",
       "      <th>1</th>\n",
       "      <td>Not sure who was more lost - the flat characte...</td>\n",
       "      <td>0</td>\n",
       "    </tr>\n",
       "    <tr>\n",
       "      <th>2</th>\n",
       "      <td>Attempting artiness with black &amp; white and cle...</td>\n",
       "      <td>0</td>\n",
       "    </tr>\n",
       "    <tr>\n",
       "      <th>3</th>\n",
       "      <td>Very little music or anything to speak of.</td>\n",
       "      <td>0</td>\n",
       "    </tr>\n",
       "    <tr>\n",
       "      <th>4</th>\n",
       "      <td>The best scene in the movie was when Gerardo i...</td>\n",
       "      <td>1</td>\n",
       "    </tr>\n",
       "  </tbody>\n",
       "</table>\n",
       "</div>"
      ],
      "text/plain": [
       "                                              review  sentiment\n",
       "0  A very, very, very slow-moving, aimless movie ...          0\n",
       "1  Not sure who was more lost - the flat characte...          0\n",
       "2  Attempting artiness with black & white and cle...          0\n",
       "3       Very little music or anything to speak of.            0\n",
       "4  The best scene in the movie was when Gerardo i...          1"
      ]
     },
     "execution_count": 3,
     "metadata": {},
     "output_type": "execute_result"
    }
   ],
   "source": [
    "data.head()\n"
   ]
  },
  {
   "cell_type": "code",
   "execution_count": 4,
   "id": "dcebeeab",
   "metadata": {},
   "outputs": [
    {
     "name": "stdout",
     "output_type": "stream",
     "text": [
      "<class 'pandas.core.frame.DataFrame'>\n",
      "RangeIndex: 748 entries, 0 to 747\n",
      "Data columns (total 2 columns):\n",
      " #   Column     Non-Null Count  Dtype \n",
      "---  ------     --------------  ----- \n",
      " 0   review     748 non-null    object\n",
      " 1   sentiment  748 non-null    int64 \n",
      "dtypes: int64(1), object(1)\n",
      "memory usage: 11.8+ KB\n"
     ]
    }
   ],
   "source": [
    "data.info()"
   ]
  },
  {
   "cell_type": "code",
   "execution_count": 5,
   "id": "8d747341",
   "metadata": {},
   "outputs": [
    {
     "data": {
      "text/plain": [
       "1    386\n",
       "0    362\n",
       "Name: sentiment, dtype: int64"
      ]
     },
     "execution_count": 5,
     "metadata": {},
     "output_type": "execute_result"
    }
   ],
   "source": [
    "data['sentiment'].value_counts()"
   ]
  },
  {
   "cell_type": "code",
   "execution_count": 8,
   "id": "18aa6167",
   "metadata": {},
   "outputs": [
    {
     "data": {
      "text/plain": [
       "'movie   good'"
      ]
     },
     "execution_count": 8,
     "metadata": {},
     "output_type": "execute_result"
    }
   ],
   "source": [
    "def text_filtering(text):\n",
    "    stop_words = list(stopwords.words('english'))\n",
    "    \n",
    "    text = text.replace('\\t', '')\n",
    "    text = text.replace('\\n', '')\n",
    "    text = text.replace('\\r', '')\n",
    "    for word in text.split(\" \"):\n",
    "        if word in stop_words:\n",
    "            text=text.replace(word,'')\n",
    "    text = text.rstrip() \n",
    "    regular_expression = '[^a-zA-z\\s]'\n",
    "    text = re.sub(regular_expression, '', text)\n",
    "    return text\n",
    "text_filtering(\"movie is not good\")"
   ]
  },
  {
   "cell_type": "code",
   "execution_count": null,
   "id": "a98624b4",
   "metadata": {},
   "outputs": [],
   "source": [
    "train_data = data[:int(0.7*len(data))]\n",
    "test_and_dev_data = data[int(0.7*len(data)):]\n",
    "\n",
    "\n",
    "dev_data=test_and_dev_data[:int(0.5 * len(test_and_dev_data))]\n",
    "test_data=test_and_dev_data[int(0.5 * len(test_and_dev_data)):]\n",
    "\n",
    "print(train_data.info())\n",
    "print(train_data)\n",
    "print()\n"
   ]
  },
  {
   "cell_type": "code",
   "execution_count": null,
   "id": "ed475bb9",
   "metadata": {},
   "outputs": [],
   "source": [
    "print(test_data.info())\n"
   ]
  },
  {
   "cell_type": "code",
   "execution_count": null,
   "id": "75f4208e",
   "metadata": {},
   "outputs": [],
   "source": [
    "print(dev_data.info())"
   ]
  },
  {
   "cell_type": "code",
   "execution_count": null,
   "id": "b0efe2f9",
   "metadata": {},
   "outputs": [],
   "source": [
    "train_data['sentiment'].value_counts()"
   ]
  },
  {
   "cell_type": "code",
   "execution_count": null,
   "id": "ccb9af6d",
   "metadata": {},
   "outputs": [],
   "source": [
    "test_data['sentiment'].value_counts()"
   ]
  },
  {
   "cell_type": "code",
   "execution_count": null,
   "id": "437aae64",
   "metadata": {},
   "outputs": [],
   "source": [
    "dev_data['sentiment'].value_counts()"
   ]
  },
  {
   "cell_type": "code",
   "execution_count": null,
   "id": "2fd2ea14",
   "metadata": {},
   "outputs": [],
   "source": [
    "X_train = train_data['review']\n",
    "y_train = train_data['sentiment']\n",
    "print(X_train)\n",
    "print(y_train)\n",
    "\n",
    "X_dev = dev_data['review']\n",
    "y_dev = dev_data['sentiment']\n",
    "print(X_dev)\n",
    "print(y_dev)\n",
    "\n",
    "X_test = test_data['review']\n",
    "y_test = test_data['sentiment']\n",
    "print(X_test)\n",
    "print(y_test)"
   ]
  },
  {
   "cell_type": "code",
   "execution_count": null,
   "id": "a7f7302c",
   "metadata": {},
   "outputs": [],
   "source": [
    "\n",
    "def cal_prior_probs(y_train):\n",
    "    prior_probs = []\n",
    "    count_0 = sum(y_train == 0)\n",
    "    prior_probs.append(count_0 / y_train.size)  \n",
    "    count_1 = sum(y_train == 1)\n",
    "    prior_probs.append(count_1 / y_train.size)    \n",
    "    return prior_probs\n",
    "prior_probs=cal_prior_probs(y_train)\n",
    "print(\"Negative review class' prior probability--\",prior_probs[0] )\n",
    "print(\"Positive review class' prior probability--\",prior_probs[1] )"
   ]
  },
  {
   "cell_type": "code",
   "execution_count": null,
   "id": "cb02d84b",
   "metadata": {},
   "outputs": [],
   "source": []
  }
 ],
 "metadata": {
  "kernelspec": {
   "display_name": "Python 3",
   "language": "python",
   "name": "python3"
  },
  "language_info": {
   "codemirror_mode": {
    "name": "ipython",
    "version": 3
   },
   "file_extension": ".py",
   "mimetype": "text/x-python",
   "name": "python",
   "nbconvert_exporter": "python",
   "pygments_lexer": "ipython3",
   "version": "3.8.8"
  }
 },
 "nbformat": 4,
 "nbformat_minor": 5
}
